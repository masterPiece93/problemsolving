{
 "cells": [
  {
   "cell_type": "markdown",
   "metadata": {},
   "source": [
    "# Problem :\n",
    "calculate factorial\n",
    "\n",
    "### Examples :\n",
    "factorial(4)\n",
    "op : 24\n",
    "\n",
    "# Solution :"
   ]
  },
  {
   "cell_type": "code",
   "execution_count": 1,
   "metadata": {},
   "outputs": [],
   "source": [
    "# solution 1\n",
    "\n",
    "def factorial(n):\n",
    "    return_value = 1 if n <= 1 else n * factorial(n -1)\n",
    "    return return_value\n",
    "\n",
    "# test\n",
    "\n",
    "assert factorial(4) == 24"
   ]
  }
 ],
 "metadata": {
  "interpreter": {
   "hash": "296347c0aeb20883c958a9f1b291f712b6821747290813e4e813d3ea88649cfc"
  },
  "kernelspec": {
   "display_name": "Python 3.9.13 ('venv': venv)",
   "language": "python",
   "name": "python3"
  },
  "language_info": {
   "codemirror_mode": {
    "name": "ipython",
    "version": 3
   },
   "file_extension": ".py",
   "mimetype": "text/x-python",
   "name": "python",
   "nbconvert_exporter": "python",
   "pygments_lexer": "ipython3",
   "version": "3.9.13"
  },
  "orig_nbformat": 4
 },
 "nbformat": 4,
 "nbformat_minor": 2
}
